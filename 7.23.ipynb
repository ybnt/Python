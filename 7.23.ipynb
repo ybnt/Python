{
 "cells": [
  {
   "cell_type": "markdown",
   "metadata": {},
   "source": [
    "# 对象和类\n",
    "- 一个学生，一张桌子，一个圆都是对象\n",
    "- 对象是类的一个实例，你可以创建多个对象，创建类的一个实例过程被称为实例化，\n",
    "- 在Python中对象就是实例，而实例就是对象"
   ]
  },
  {
   "cell_type": "markdown",
   "metadata": {},
   "source": [
    "## 定义类\n",
    "class ClassName:\n",
    "\n",
    "    do something\n",
    "    \n",
    "- class 类的表示与def 一样\n",
    "- 类名最好使用驼峰式\n",
    "- 在Python2中类是需要继承基类object的，在Python中默认继承，可写可不写\n",
    "- 可以将普通代码理解为皮肤，而函数可以理解为内衣，那么类可以理解为外套"
   ]
  },
  {
   "cell_type": "code",
   "execution_count": 34,
   "metadata": {},
   "outputs": [],
   "source": [
    "# 类必须初始化,是用self,初始化自身.\n",
    "# 类里面所有的函数中的第一个变量不再是参数,而是一个印记.\n",
    "# 在类中,如果有参数需要多次使用,那么就可以将其设置为共享参数\n",
    "class Joker:\n",
    "    def __init__(self,num1,num2):\n",
    "        print('我初始化了')\n",
    "        # 参数共享\n",
    "        self.num1 = num1\n",
    "        self.num2 = num2\n",
    "        print(self.num1,self.num2)\n",
    "    def SUM(self,name):\n",
    "        print(name)\n",
    "        return self.num1 + self.num2\n",
    "    def cheng(self):\n",
    "        return self.num1 * self.num2"
   ]
  },
  {
   "cell_type": "code",
   "execution_count": 35,
   "metadata": {},
   "outputs": [
    {
     "name": "stdout",
     "output_type": "stream",
     "text": [
      "我初始化了\n",
      "1 2\n"
     ]
    }
   ],
   "source": [
    "huwang = Joker(num1=1,num2=2) # () 代表直接走初始化函数"
   ]
  },
  {
   "cell_type": "code",
   "execution_count": 36,
   "metadata": {},
   "outputs": [
    {
     "name": "stdout",
     "output_type": "stream",
     "text": [
      "JJJ\n"
     ]
    },
    {
     "data": {
      "text/plain": [
       "3"
      ]
     },
     "execution_count": 36,
     "metadata": {},
     "output_type": "execute_result"
    }
   ],
   "source": [
    "huwang.SUM(name='JJJ')"
   ]
  },
  {
   "cell_type": "code",
   "execution_count": 33,
   "metadata": {},
   "outputs": [
    {
     "data": {
      "text/plain": [
       "2"
      ]
     },
     "execution_count": 33,
     "metadata": {},
     "output_type": "execute_result"
    }
   ],
   "source": [
    "huwang.cheng()"
   ]
  },
  {
   "cell_type": "markdown",
   "metadata": {},
   "source": [
    "## 定义一个不含初始化__init__的简单类\n",
    "class ClassName:\n",
    "\n",
    "    joker = “Home”\n",
    "    \n",
    "    def func():\n",
    "        print('Worker')\n",
    "    \n",
    "- 尽量少使用"
   ]
  },
  {
   "cell_type": "markdown",
   "metadata": {},
   "source": [
    "\n",
    "\n",
    "## 定义一个标准类\n",
    "- __init__ 代表初始化，可以初始化任何动作\n",
    "- 此时类调用要使用()，其中（）可以理解为开始初始化\n",
    "- 初始化内的元素，类中其他的函数可以共享\n",
    "![](../Photo/85.png)"
   ]
  },
  {
   "cell_type": "markdown",
   "metadata": {},
   "source": [
    "- Circle 和 className_ 的第一个区别有 __init__ 这个函数\n",
    "- 。。。。   第二个区别，类中的每一个函数都有self的这个“参数”"
   ]
  },
  {
   "cell_type": "markdown",
   "metadata": {},
   "source": [
    "## 何为self？\n",
    "- self 是指向对象本身的参数\n",
    "- self 只是一个命名规则，其实可以改变的，但是我们约定俗成的是self，也便于理解\n",
    "- 使用了self就可以访问类中定义的成员\n",
    "<img src=\"../Photo/86.png\"></img>"
   ]
  },
  {
   "cell_type": "markdown",
   "metadata": {},
   "source": [
    "## 使用类 Cirlcle"
   ]
  },
  {
   "cell_type": "markdown",
   "metadata": {},
   "source": [
    "## 类的传参\n",
    "- class ClassName:\n",
    "    \n",
    "        def __init__(self, para1,para2...)：\n",
    "            \n",
    "            self.para1 = para1\n",
    "            \n",
    "            self.para2 = para2"
   ]
  },
  {
   "cell_type": "markdown",
   "metadata": {},
   "source": [
    "## EP:\n",
    "- A：定义一个类，类中含有两个功能：\n",
    "    - 1、产生3个随机数，获取最大值\n",
    "    - 2、产生3个随机数，获取最小值\n",
    "- B：定义一个类，（类中函数的嵌套使用）\n",
    "    - 1、第一个函数的功能为：输入一个数字\n",
    "    - 2、第二个函数的功能为：使用第一个函数中得到的数字进行平方处理\n",
    "    - 3、第三个函数的功能为：得到平方处理后的数字 - 原来输入的数字，并打印结果"
   ]
  },
  {
   "cell_type": "code",
   "execution_count": 83,
   "metadata": {},
   "outputs": [],
   "source": [
    "class Joker2:\n",
    "    \"\"\"\n",
    "    Implement Login Class.\n",
    "    \"\"\"\n",
    "    def __init__(self):\n",
    "        \"\"\"\n",
    "        Initialization class\n",
    "        Arguments:\n",
    "        ---------\n",
    "            name: xxx\n",
    "            None.\n",
    "        Returns:\n",
    "        --------\n",
    "            None.\n",
    "        \"\"\"\n",
    "        self.account = '123'\n",
    "        self.password = '123'\n",
    "    def Account(self):\n",
    "        \"\"\"\n",
    "        Input Account value\n",
    "        Arguments:\n",
    "        ---------\n",
    "            None.\n",
    "        Returns:\n",
    "        --------\n",
    "            None.\n",
    "        \"\"\"\n",
    "        self.acc = input('请输入账号:>>')\n",
    "    def Password(self):\n",
    "        \"\"\"\n",
    "        Input Password value\n",
    "        Arguments:\n",
    "        ---------\n",
    "            None.\n",
    "        Returns:\n",
    "        --------\n",
    "            None.\n",
    "        \"\"\"\n",
    "        self.passwor = input('请输入密码:>>')\n",
    "    def Check(self):\n",
    "        \"\"\"\n",
    "        Check account and password\n",
    "        Note:\n",
    "        ----\n",
    "            we need \"and\" connect.\n",
    "            if account and password is right, then login OK.\n",
    "            else: running Veriy func.\n",
    "        \"\"\"\n",
    "        if self.acc == self.account and self.passwor == self.password:\n",
    "            print('Success')\n",
    "        else:\n",
    "            # running Verify !\n",
    "            self.Verify()\n",
    "    def Verify(self):\n",
    "        \"\"\"\n",
    "        Verify ....\n",
    "        \"\"\"\n",
    "        Verify_Var = 123\n",
    "        print('验证码是:',Verify_Var)\n",
    "        while 1:\n",
    "            User_Verify = eval(input('请输入验证码:>>'))\n",
    "            if User_Verify == Verify_Var:\n",
    "                print('Failed')\n",
    "                break\n",
    "    def Start(self):\n",
    "        \"\"\"\n",
    "        Start definelogistics.\n",
    "        \"\"\"\n",
    "        self.Account()\n",
    "        self.Password()\n",
    "        self.Check()"
   ]
  },
  {
   "cell_type": "code",
   "execution_count": 84,
   "metadata": {},
   "outputs": [],
   "source": [
    "# 创建类的一个实例\n",
    "a = Joker2()"
   ]
  },
  {
   "cell_type": "code",
   "execution_count": 82,
   "metadata": {},
   "outputs": [
    {
     "name": "stdout",
     "output_type": "stream",
     "text": [
      "请输入账号:>>123\n",
      "请输入密码:>>1\n",
      "验证码是: 123\n",
      "请输入验证码:>>1\n",
      "请输入验证码:>>1\n",
      "请输入验证码:>>123\n",
      "Failed\n"
     ]
    }
   ],
   "source": [
    "a.Start()"
   ]
  },
  {
   "cell_type": "markdown",
   "metadata": {},
   "source": [
    "## 类的继承\n",
    "- 类的单继承\n",
    "- 类的多继承\n",
    "- 继承标识\n",
    ">  class SonClass(FatherClass):\n",
    "            \n",
    "            def __init__(self):\n",
    "            \n",
    "                FatherClass.__init__(self)"
   ]
  },
  {
   "cell_type": "code",
   "execution_count": 110,
   "metadata": {
    "scrolled": true
   },
   "outputs": [
    {
     "data": {
      "text/plain": [
       "1000"
      ]
     },
     "execution_count": 110,
     "metadata": {},
     "output_type": "execute_result"
    }
   ],
   "source": [
    "a = 100\n",
    "a = 1000\n",
    "a"
   ]
  },
  {
   "cell_type": "markdown",
   "metadata": {},
   "source": [
    "私有变量,不可继承,不可在外部调用,但是可以在内部使用."
   ]
  },
  {
   "cell_type": "code",
   "execution_count": 32,
   "metadata": {},
   "outputs": [],
   "source": [
    "class A:\n",
    "    def __init__(self):\n",
    "        self.__a = 'a'\n",
    "    def a_(self):\n",
    "        print('aa')\n",
    "        print(self.__a)"
   ]
  },
  {
   "cell_type": "code",
   "execution_count": 35,
   "metadata": {},
   "outputs": [
    {
     "name": "stdout",
     "output_type": "stream",
     "text": [
      "hahah\n"
     ]
    }
   ],
   "source": [
    "def b():\n",
    "    a()\n",
    "    \n",
    "def a():\n",
    "    print('hahah')\n",
    "b()"
   ]
  },
  {
   "cell_type": "markdown",
   "metadata": {},
   "source": [
    "# _ _ -- + = / \\ { } [] ! ~ !@ # $ % ^ & * ( ) < > ……"
   ]
  },
  {
   "cell_type": "markdown",
   "metadata": {},
   "source": [
    "## 私有数据域(私有变量，或者私有函数)\n",
    "- 在Python中 变量名或者函数名使用双下划线代表私有  \\__Joker,   def \\__Joker():\n",
    "- 私有数据域不可继承\n",
    "- 私有数据域强制继承   \\__dir__()"
   ]
  },
  {
   "cell_type": "markdown",
   "metadata": {},
   "source": [
    "![](../Photo/87.png)"
   ]
  },
  {
   "cell_type": "markdown",
   "metadata": {},
   "source": [
    "## EP:\n",
    "![](../Photo/88.png)\n",
    "![](../Photo/89.png)\n",
    "![](../Photo/90.png)\n"
   ]
  },
  {
   "cell_type": "markdown",
   "metadata": {},
   "source": [
    "## 类的其他\n",
    "- 类的封装\n",
    "    - 实际上就是将一类功能放在一起，方便未来进行管理\n",
    "- 类的继承（上面已经讲过）\n",
    "- 类的多态\n",
    "    - 包括装饰器：将放在以后处理高级类中教\n",
    "    - 装饰器的好处：当许多类中的函数需要使用同一个功能的时候，那么使用装饰器就会方便许多\n",
    "    - 装饰器是有固定的写法\n",
    "        - 其包括普通装饰器与带参装饰器"
   ]
  },
  {
   "cell_type": "markdown",
   "metadata": {},
   "source": [
    "# Homewor\n",
    "## UML类图可以不用画\n",
    "## UML 实际上就是一个思维图\n",
    "- 1\n",
    "![](../Photo/91.png)"
   ]
  },
  {
   "cell_type": "code",
   "execution_count": 3,
   "metadata": {},
   "outputs": [
    {
     "name": "stdout",
     "output_type": "stream",
     "text": [
      "width,height:>>3.5,35.7\n",
      "3.5 35.7 124.95000000000002 78.4\n"
     ]
    }
   ],
   "source": [
    "class rectangle:\n",
    "    def __init__(self,width,height):\n",
    "        self.width=width\n",
    "        self.height=height\n",
    "    def getArea(self):\n",
    "        return self.width*self.height\n",
    "    def getPerimeter(self):\n",
    "        return (self.width+self.height)*2\n",
    "if __name__ == \"__main__\":\n",
    "    width,height=map(float,input('width,height:>>').split(','))\n",
    "    re=rectangle(width,height)\n",
    "    print(width,height,re.getArea(),re.getPerimeter())"
   ]
  },
  {
   "cell_type": "markdown",
   "metadata": {},
   "source": [
    "- 2\n",
    "![](../Photo/92.png)"
   ]
  },
  {
   "cell_type": "code",
   "execution_count": 9,
   "metadata": {},
   "outputs": [
    {
     "name": "stdout",
     "output_type": "stream",
     "text": [
      "请输入你的id：1122\n",
      "请输入账户金额：2000\n",
      "年利率为：4.5\n",
      "取:2500\n",
      "存:3000\n",
      "你的id：1122 剩余金额：2500.00 月利率：0.375 月利息：9.38 \n"
     ]
    }
   ],
   "source": [
    "class Account():\n",
    "    def __init__(self):\n",
    "        self.id = 0\n",
    "        self.__balance = 100\n",
    "        self.__annuallnterestRate=0\n",
    "    def set_(self,id,balance,annuallnterestRate):\n",
    "        self.id = id\n",
    "        self.__balance = balance\n",
    "        self.__annuallnterestRate=annuallnterestRate\n",
    "    def getid(self):\n",
    "        return self.id\n",
    "    def getbalance(self):\n",
    "        return self.__balance\n",
    "    def get__annuallnterestRate(self):\n",
    "        return self.__annuallnterestRate\n",
    "    def getMonthlyInterestRate(self):\n",
    "        return self.__annuallnterestRate/12\n",
    "    def getMonthlyInterest(self):\n",
    "        return self.__balance*(self.__annuallnterestRate/12)\n",
    "    def withdraw(self,number):\n",
    "        self.__balance=self.__balance-number\n",
    "    def deposit(self,number):\n",
    "        self.__balance=self.__balance+number\n",
    "if __name__ == '__main__':\n",
    "    acc=Account()\n",
    "    id=int(input('请输入你的id：'))\n",
    "    balance=float(input('请输入账户金额：'))\n",
    "    ann=float(input('年利率为：'))\n",
    "    acc.set_(id,balance,ann/100)\n",
    "    qu=float(input('取:'))\n",
    "    acc.withdraw(qu)\n",
    "    cun=float(input('存:'))\n",
    "    acc.deposit(cun)\n",
    "    print('你的id：%d 剩余金额：%.2f 月利率：%.3f 月利息：%.2f '%(acc.getid(),acc.getbalance(),acc.getMonthlyInterestRate()*100,acc.getMonthlyInterest()))"
   ]
  },
  {
   "cell_type": "markdown",
   "metadata": {},
   "source": [
    "- 3\n",
    "![](../Photo/93.png)"
   ]
  },
  {
   "cell_type": "code",
   "execution_count": 10,
   "metadata": {},
   "outputs": [
    {
     "name": "stdout",
     "output_type": "stream",
     "text": [
      "风扇的速度为（1：slow，2：medium，3：fast）：1\n",
      "风扇的半径为：12\n",
      "风扇的颜色是：red\n",
      "风扇是否打开(True or False):True\n",
      "风扇的速度为（1：slow，2：medium，3：fast）：12\n",
      "风扇的半径为：22\n",
      "风扇的颜色是：22\n",
      "风扇是否打开(True or False):2\n",
      "1号风扇的速度(speed)为： 1 颜色是(color): red 风扇的半径为(radius)： 12.0 风扇是： True\n",
      "2号风扇的速度(speed)为： 12 颜色是(color): 22 风扇的半径为(radius)： 22.0 风扇是： 2\n"
     ]
    }
   ],
   "source": [
    "class Fan():\n",
    "    def __init__(self):\n",
    "        self.slow=1\n",
    "        self.medium=2\n",
    "        self.fast=3\n",
    "        self.__speed=1\n",
    "        self.__on=False\n",
    "        self.__radius=5\n",
    "        self.__color='blue'\n",
    "    def set_(self,speed,on,radius,color):\n",
    "        self.__speed=speed\n",
    "        self.__on=on\n",
    "        self.__radius=radius\n",
    "        self.__color=color\n",
    "    def getspeed(self):\n",
    "        return self.__speed\n",
    "    def geton(self):\n",
    "        return self.__on\n",
    "    def getradius(self):\n",
    "        return self.__radius\n",
    "    def getcolor(self):\n",
    "        return self.__color\n",
    "if __name__ == '__main__':\n",
    "    fan=Fan()\n",
    "    speed=int(input('风扇的速度为（1：slow，2：medium，3：fast）：'))\n",
    "    radius=float(input('风扇的半径为：'))\n",
    "    color=input('风扇的颜色是：')\n",
    "    on=input('风扇是否打开(True or False):')\n",
    "    fan.set_(speed,on,radius,color)\n",
    "    fan2=Fan()\n",
    "    speed=int(input('风扇的速度为（1：slow，2：medium，3：fast）：'))\n",
    "    radius=float(input('风扇的半径为：'))\n",
    "    color=input('风扇的颜色是：')\n",
    "    on=input('风扇是否打开(True or False):')\n",
    "    fan2.set_(speed,on,radius,color)\n",
    "    print('1号风扇的速度(speed)为：',fan.getspeed(),'颜色是(color):',fan.getcolor(),'风扇的半径为(radius)：',fan.getradius(),'风扇是：',fan.geton())\n",
    "    print('2号风扇的速度(speed)为：',fan2.getspeed(),'颜色是(color):',fan2.getcolor(),'风扇的半径为(radius)：',fan2.getradius(),'风扇是：',fan2.geton())\n"
   ]
  },
  {
   "cell_type": "markdown",
   "metadata": {},
   "source": [
    "## - 4\n",
    "![](../Photo/94.png)\n",
    "![](../Photo/95.png)"
   ]
  },
  {
   "cell_type": "code",
   "execution_count": 5,
   "metadata": {},
   "outputs": [
    {
     "name": "stdout",
     "output_type": "stream",
     "text": [
      "n,side,x,y:>>4,4,0,0\n",
      "4.0 4.0 0.0 0.0 15.987263841680683 16.0\n"
     ]
    }
   ],
   "source": [
    "import math\n",
    "class RegularPolygon:\n",
    "    def __init__(self,n,side,x,y):\n",
    "        self.n=n\n",
    "        self.side=side\n",
    "        self.x=x\n",
    "        self.y=y\n",
    "    def getArea(self):\n",
    "        return (self.n*self.side**2)/4*math.tan(3.14/self.n)\n",
    "    def getPerimeter(self):\n",
    "        return self.n*self.side\n",
    "if __name__ == \"__main__\":\n",
    "    n,side,x,y=map(float,input('n,side,x,y:>>').split(','))\n",
    "    re=RegularPolygon(n,side,x,y)\n",
    "    print(n,side,x,y,re.getArea(),re.getPerimeter())\n"
   ]
  },
  {
   "cell_type": "markdown",
   "metadata": {},
   "source": [
    "- 5\n",
    "![](../Photo/96.png)"
   ]
  },
  {
   "cell_type": "code",
   "execution_count": 13,
   "metadata": {},
   "outputs": [
    {
     "name": "stdout",
     "output_type": "stream",
     "text": [
      "请输入abcdef的值1,1,1,1,1,1\n",
      "这个方程式无解\n",
      "请输入abcdef的值3,6,3,4,5,7\n",
      "3.6666666666666665\n",
      "-1.0\n"
     ]
    }
   ],
   "source": [
    "class LinearEquation(object):\n",
    "    a = 0\n",
    "    b = 0\n",
    "    c = 0 \n",
    "    d = 0 \n",
    "    e = 0\n",
    "    f = 0\n",
    "    def __init__(self,a,b,c,d,e,f):\n",
    "        self.a = a   \n",
    "        self.b = b\n",
    "        self.c = c\n",
    "        self.d = d\n",
    "        self.e = e\n",
    "        self.f = f\n",
    "    def getA(self):\n",
    "        return self.a\n",
    "    def getB(self):\n",
    "        return self.b\n",
    "    def getC(self):\n",
    "        return self.c\n",
    "    def getD(self):\n",
    "        return self.d\n",
    "    def getE(self):\n",
    "        return self.e\n",
    "    def getF(self):\n",
    "        return self.f\n",
    "    def isSolvable(self):\n",
    "        if a*d-b*c !=0:\n",
    "            return True\n",
    "        else:\n",
    "            return False\n",
    "    def getX(self):\n",
    "        return (self.e*self.d-self.b*self.f)/(self.a*self.d-self.b*self.c)\n",
    "    def getY(self):\n",
    "        return (self.a*self.f-self.e*self.c)/(self.a*self.d-self.b*self.c)\n",
    "a,b,c,d,e,f = map(int,input('请输入abcdef的值').split(','))\n",
    "linearEquation=LinearEquation(a,b,c,d,e,f)\n",
    "if linearEquation.isSolvable() == True:\n",
    "    print(linearEquation.getX())\n",
    "    print(linearEquation.getY())\n",
    "else:\n",
    "    print('这个方程式无解')\n",
    "class LinearEquation(object):\n",
    "    a = 0\n",
    "    b = 0\n",
    "    c = 0 \n",
    "    d = 0 \n",
    "    e = 0\n",
    "    f = 0\n",
    "    def __init__(self,a,b,c,d,e,f):\n",
    "        self.a = a   \n",
    "        self.b = b\n",
    "        self.c = c\n",
    "        self.d = d\n",
    "        self.e = e\n",
    "        self.f = f\n",
    "    def getA(self):\n",
    "        return self.a\n",
    "    def getB(self):\n",
    "        return self.b\n",
    "    def getC(self):\n",
    "        return self.c\n",
    "    def getD(self):\n",
    "        return self.d\n",
    "    def getE(self):\n",
    "        return self.e\n",
    "    def getF(self):\n",
    "        return self.f\n",
    "    def isSolvable(self):\n",
    "        if a*d-b*c !=0:\n",
    "            return True\n",
    "        else:\n",
    "            return False\n",
    "    def getX(self):\n",
    "        return (self.e*self.d-self.b*self.f)/(self.a*self.d-self.b*self.c)\n",
    "    def getY(self):\n",
    "        return (self.a*self.f-self.e*self.c)/(self.a*self.d-self.b*self.c)\n",
    "a,b,c,d,e,f = map(int,input('请输入abcdef的值').split(','))\n",
    "linearEquation=LinearEquation(a,b,c,d,e,f)\n",
    "if linearEquation.isSolvable() == True:\n",
    "    print(linearEquation.getX())\n",
    "    print(linearEquation.getY())\n",
    "else:\n",
    "    print('这个方程式无解')\n",
    "\n",
    "   \n"
   ]
  },
  {
   "cell_type": "markdown",
   "metadata": {},
   "source": [
    "- 6\n",
    "![](../Photo/97.png)"
   ]
  },
  {
   "cell_type": "code",
   "execution_count": 15,
   "metadata": {},
   "outputs": [
    {
     "name": "stdout",
     "output_type": "stream",
     "text": [
      "2.0,2.0,0,0\n",
      "0,2.0,2.0,0\n",
      "1.0 1.0\n"
     ]
    }
   ],
   "source": [
    "class zuobao:\n",
    "    def shur(self):\n",
    "        import math      \n",
    "        x1,y1,x2,y2=map(float,input().split(','))\n",
    "        x3,y3,x4,y4=map(float,input().split(','))\n",
    "        u1=(x4-x3)*(y1-y3)-(x1-x3)*(y4-y3)\n",
    "        v1=(x4-x3)*(y2-y3)-(x2-x3)*(y4-y3)\n",
    "        u=math.fabs(u1)\n",
    "        v=math.fabs(v1)\n",
    "\n",
    "        x5=(x1*v+x2*u)/(u+v)\n",
    "        y5=(y1*v+y2*u)/(u+v)\n",
    "        print(x5,y5) \n",
    "re=zuobao()\n",
    "re.shur()"
   ]
  },
  {
   "cell_type": "markdown",
   "metadata": {},
   "source": [
    "- 7\n",
    "![](../Photo/98.png)"
   ]
  },
  {
   "cell_type": "code",
   "execution_count": 12,
   "metadata": {},
   "outputs": [
    {
     "name": "stdout",
     "output_type": "stream",
     "text": [
      "请输入abcdef的值1,3,6,8,2,5\n",
      "-0.1\n",
      "0.7\n"
     ]
    }
   ],
   "source": [
    "class LinearEquation(object):\n",
    "    a = 0\n",
    "    b = 0\n",
    "    c = 0 \n",
    "    d = 0 \n",
    "    e = 0\n",
    "    f = 0\n",
    "    def __init__(self,a,b,c,d,e,f):\n",
    "        self.a = a   \n",
    "        self.b = b\n",
    "        self.c = c\n",
    "        self.d = d\n",
    "        self.e = e\n",
    "        self.f = f\n",
    "    def getA(self):\n",
    "        return self.a\n",
    "    def getB(self):\n",
    "        return self.b\n",
    "    def getC(self):\n",
    "        return self.c\n",
    "    def getD(self):\n",
    "        return self.d\n",
    "    def getE(self):\n",
    "        return self.e\n",
    "    def getF(self):\n",
    "        return self.f\n",
    "    def isSolvable(self):\n",
    "        if a*d-b*c !=0:\n",
    "            return True\n",
    "        else:\n",
    "            return False\n",
    "    def getX(self):\n",
    "        return (self.e*self.d-self.b*self.f)/(self.a*self.d-self.b*self.c)\n",
    "    def getY(self):\n",
    "        return (self.a*self.f-self.e*self.c)/(self.a*self.d-self.b*self.c)\n",
    "a,b,c,d,e,f = map(int,input('请输入abcdef的值').split(','))\n",
    "linearEquation=LinearEquation(a,b,c,d,e,f)\n",
    "if linearEquation.isSolvable() == True:\n",
    "    print(linearEquation.getX())\n",
    "    print(linearEquation.getY())\n",
    "else:\n",
    "    print('这个方程式无解')\n"
   ]
  },
  {
   "cell_type": "code",
   "execution_count": null,
   "metadata": {},
   "outputs": [],
   "source": []
  }
 ],
 "metadata": {
  "kernelspec": {
   "display_name": "Python 3",
   "language": "python",
   "name": "python3"
  },
  "language_info": {
   "codemirror_mode": {
    "name": "ipython",
    "version": 3
   },
   "file_extension": ".py",
   "mimetype": "text/x-python",
   "name": "python",
   "nbconvert_exporter": "python",
   "pygments_lexer": "ipython3",
   "version": "3.7.3"
  }
 },
 "nbformat": 4,
 "nbformat_minor": 2
}
